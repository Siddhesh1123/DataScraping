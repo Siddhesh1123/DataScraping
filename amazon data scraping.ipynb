{
 "cells": [
  {
   "cell_type": "code",
   "execution_count": 95,
   "id": "476bc505",
   "metadata": {},
   "outputs": [],
   "source": [
    "from bs4 import BeautifulSoup\n",
    "import requests\n",
    "import time \n",
    "import datetime\n",
    "import smtplib"
   ]
  },
  {
   "cell_type": "code",
   "execution_count": 96,
   "id": "30709bc8",
   "metadata": {},
   "outputs": [],
   "source": [
    "#connection\n",
    "URL=\"https://www.amazon.in/s?k=bags&ref=sr_pg_1\"\n",
    "\n",
    "Header = ({'User-Agent': 'Mozilla/5.0 (Windows NT 10.0; Win64; x64) AppleWebKit/537.36 (KHTML, like Gecko) Chrome/113.0.0.0 Safari/537.36',\n",
    "           'Accept-Language': 'en-US, eb; \\q=0.5'})\n",
    "\n",
    "page = requests.get(URL,headers=Header)\n",
    "\n",
    "soup = BeautifulSoup(page.content, \"html.parser\")\n",
    "\n",
    "soup1= BeautifulSoup(soup.prettify(), \"html.parser\")\n",
    "\n",
    "productlinks=soup1.find(\"a\", attrs={'class':'a-link-normal s-no-outline'})\n",
    "\n",
    "title=soup1.find(\"span\",attrs={'class':'a-size-medium a-color-base a-text-normal'}).get_text()\n",
    "\n",
    "price=soup1.find(\"span\",attrs={'class':'a-price-whole'}).get_text()\n",
    "\n",
    "ratings=soup1.find(\"span\",attrs={'class':'a-icon-alt'}).get_text()\n",
    "\n",
    "reviews=soup1.find(\"span\",attrs={'class':'a-size-base s-underline-text'}).get_text()\n"
   ]
  },
  {
   "cell_type": "code",
   "execution_count": 97,
   "id": "e092f941",
   "metadata": {},
   "outputs": [
    {
     "name": "stdout",
     "output_type": "stream",
     "text": [
      "/sspa/click?ie=UTF8&spc=MTo3MjA3NjQwNDgwNzQ3OTY2OjE2ODUwOTA3MzU6c3BfYXRmOjIwMTU5Njk3MzQxNjk4OjowOjo&url=%2FElegant-Leatherette-Waterproof-Backpack-Business%2Fdp%2FB0C4GWK9HR%2Fref%3Dsr_1_1_sspa%3Fkeywords%3Dbags%26qid%3D1685090735%26sr%3D8-1-spons%26sp_csd%3Dd2lkZ2V0TmFtZT1zcF9hdGY%26psc%3D1\n",
      "Elegant Sports Classic Leatherette (16 inch 28 L Casual Waterproof Laptop Backpack/Office Bag/School Bag/College Bag/Business Bag/Unisex Travel Backpack (Black/Blue)\n",
      "2,629\n",
      "                       \n",
      "                        .\n",
      "4.3 out of 5 stars\n",
      "168\n"
     ]
    }
   ],
   "source": [
    "productlinks2=productlinks.get('href')\n",
    "title=title.strip()\n",
    "price=price.strip()\n",
    "ratings=ratings.strip()\n",
    "reviews=reviews.strip()\n",
    "print(productlinks2)\n",
    "print(title)\n",
    "print(price)\n",
    "print(ratings)\n",
    "print(reviews)"
   ]
  },
  {
   "cell_type": "code",
   "execution_count": null,
   "id": "d22a8844",
   "metadata": {},
   "outputs": [],
   "source": [
    "import csv\n",
    "\n",
    "header=['ProductLink','Title','Price','Ratings','Number of Reviews']\n",
    "data=  [productlink,title,price,ratings,reviews]\n",
    "\n",
    "with open('amazonwebscraping.csv','w',newline='',encoding='UTF8') as f:\n",
    "    writer= csv.writer(f)\n",
    "    writer.writerow(header)\n",
    "    writer.writerow(data)\n"
   ]
  },
  {
   "cell_type": "code",
   "execution_count": null,
   "id": "69b485d7",
   "metadata": {},
   "outputs": [],
   "source": [
    "#append data\n",
    "with open('amazonwebscraping.csv','a+',newline='',encoding='UTF8') as f:\n",
    "    writer= csv.writer(f)\n",
    "    writer.writerow(data)"
   ]
  },
  {
   "cell_type": "code",
   "execution_count": null,
   "id": "10f2be39",
   "metadata": {},
   "outputs": [],
   "source": [
    "def check_price():\n",
    "    URL=\"https://www.amazon.in/s?k=bags&ref=sr_pg_1\"\n",
    "\n",
    "    Header = ({'User-Agent': 'Mozilla/5.0 (Windows NT 10.0; Win64; x64) AppleWebKit/537.36 (KHTML, like Gecko) Chrome/113.0.0.0 Safari/537.36',\n",
    "           'Accept-Language': 'en-US, eb; \\q=0.5'})\n",
    "\n",
    "    page = requests.get(URL,headers=Header)\n",
    "\n",
    "    soup = BeautifulSoup(page.content, \"html.parser\")\n",
    "\n",
    "    soup1= BeautifulSoup(soup.prettify(), \"html.parser\")\n",
    "\n",
    "    productlinks=soup1.find(\"a\", attrs={'class':'a-link-normal s-no-outline'})\n",
    " \n",
    "    title=soup1.find(\"span\",attrs={'class':'a-size-medium a-color-base a-text-normal'}).get_text()\n",
    "\n",
    "    price=soup1.find(\"span\",attrs={'class':'a-price-whole'}).get_text()\n",
    "\n",
    "    ratings=soup1.find(\"span\",attrs={'class':'a-icon-alt'}).get_text()\n",
    "\n",
    "    reviews=soup1.find(\"span\",attrs={'class':'a-size-base s-underline-text'}).get_text()\n",
    "    \n",
    "    productlinks2=productlinks.get('href')\n",
    "    title=title.strip()\n",
    "    price=price.strip()\n",
    "    ratings=ratings.strip()\n",
    "    reviews=reviews.strip()\n",
    "    \n",
    "    import csv\n",
    "\n",
    "    header=['ProductLink','Title','Price','Ratings','Number of Reviews']\n",
    "    data=  [productlink,title,price,ratings,reviews]\n",
    "    \n",
    "    with open('amazonwebscraping.csv','a+',newline='',encoding='UTF8') as f:\n",
    "        writer= csv.writer(f)\n",
    "        writer.writerow(data)\n",
    "    "
   ]
  },
  {
   "cell_type": "code",
   "execution_count": null,
   "id": "cdbe51de",
   "metadata": {},
   "outputs": [],
   "source": []
  },
  {
   "cell_type": "code",
   "execution_count": null,
   "id": "e5168f9d",
   "metadata": {},
   "outputs": [],
   "source": []
  }
 ],
 "metadata": {
  "kernelspec": {
   "display_name": "Python 3 (ipykernel)",
   "language": "python",
   "name": "python3"
  },
  "language_info": {
   "codemirror_mode": {
    "name": "ipython",
    "version": 3
   },
   "file_extension": ".py",
   "mimetype": "text/x-python",
   "name": "python",
   "nbconvert_exporter": "python",
   "pygments_lexer": "ipython3",
   "version": "3.9.12"
  }
 },
 "nbformat": 4,
 "nbformat_minor": 5
}
